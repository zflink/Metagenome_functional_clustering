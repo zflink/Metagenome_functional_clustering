{
 "cells": [
  {
   "cell_type": "markdown",
   "id": "5ad84b5c-dcbc-46a2-b975-c6426b4eb189",
   "metadata": {},
   "source": [
    "# Metagenome functional gene dataset preprocessing\n",
    "Notebook by Zach Flinkstrom - Winkler Lab - University of Washington - 2023\\\n",
    "Filter samples and genes based on set criteria and normalize gene abundances"
   ]
  },
  {
   "cell_type": "code",
   "execution_count": 1,
   "id": "49d77005-0dc8-4a62-b4d9-e7d74c166159",
   "metadata": {},
   "outputs": [],
   "source": [
    "#import required packages\n",
    "import numpy as np\n",
    "import anndata\n",
    "import scanpy as sc\n",
    "from scipy import stats"
   ]
  },
  {
   "cell_type": "code",
   "execution_count": 2,
   "id": "e69558fd-b022-4b2a-be50-7325323e3efd",
   "metadata": {},
   "outputs": [
    {
     "data": {
      "text/plain": [
       "AnnData object with n_obs × n_vars = 10160 × 18290\n",
       "    obs: 'Domain', 'Sequencing Status', 'Study Name', 'Genome Name / Sample Name', 'Sequencing Center', 'IMG Genome ID ', 'IMG Release/Pipeline Version', 'IMG Submission ID', 'Add Date', 'Assembly Method', 'Has Coverage', 'Release Date', 'Sequencing Depth', 'Sequencing Method', 'Sequencing Quality', 'Ecosystem', 'Ecosystem Category', 'Ecosystem Subtype', 'Ecosystem Type', 'Specific Ecosystem', 'Altitude In Meters', 'Chlorophyll Concentration', 'Depth In Meters', 'Elevation In Meters', 'Geographic Location', 'Habitat', 'Isolation', 'Isolation Country', 'Latitude', 'Longhurst Code', 'Longhurst Description', 'Longitude', 'Nitrate Concentration', 'Oxygen Concentration', 'pH', 'Pressure', 'Salinity', 'Salinity Concentration', 'Sample Collection Date', 'Sample Collection Temperature', 'Subsurface In Meters', 'Genome Size   * assembled', 'Gene Count   * assembled', 'Scaffold Count   * assembled', 'Genome Bin Count   * assembled', 'CRISPR Count   * assembled', 'GC   * assembled', 'KO %   * assembled', 'Estimated Number of Genomes  * assembled', 'Estimated Average Genome Size  * assembled', 'Estimated number of genomes - Marker genes average  * assembled', 'Estimated number of genomes - Marker genes median  * assembled', 'Estimated number of genomes - Marker genes mode  * assembled', 'JGI Data Utilization Status', 'Number of Filtered Reads   * assembled', 'Number of Mapped Reads   * assembled'\n",
       "    var: 'ko_name'"
      ]
     },
     "execution_count": 2,
     "metadata": {},
     "output_type": "execute_result"
    }
   ],
   "source": [
    "# Load in hdf5 file\n",
    "filename = \"data/adata_raw.h5ad\"\n",
    "adata = anndata.read_h5ad(filename)\n",
    "adata"
   ]
  },
  {
   "cell_type": "code",
   "execution_count": 3,
   "id": "7600df02-7edd-4a9c-84a1-8a0855330dc5",
   "metadata": {},
   "outputs": [],
   "source": [
    "#Create metadata column for pipeline version number\n",
    "pipeline = []\n",
    "for x in adata.obs['IMG Release/Pipeline Version']:\n",
    "    if x[0] == 'I':\n",
    "        pipeline.append(x.split('v.')[1][0])\n",
    "    else:\n",
    "        pipeline.append('Unknown')\n",
    "adata.obs[\"Pipeline\"] = pipeline"
   ]
  },
  {
   "cell_type": "code",
   "execution_count": 4,
   "id": "e1f8a3a6-4b44-4382-bf5a-a2e6d16017ac",
   "metadata": {},
   "outputs": [
    {
     "data": {
      "text/plain": [
       "View of AnnData object with n_obs × n_vars = 8918 × 18290\n",
       "    obs: 'Domain', 'Sequencing Status', 'Study Name', 'Genome Name / Sample Name', 'Sequencing Center', 'IMG Genome ID ', 'IMG Release/Pipeline Version', 'IMG Submission ID', 'Add Date', 'Assembly Method', 'Has Coverage', 'Release Date', 'Sequencing Depth', 'Sequencing Method', 'Sequencing Quality', 'Ecosystem', 'Ecosystem Category', 'Ecosystem Subtype', 'Ecosystem Type', 'Specific Ecosystem', 'Altitude In Meters', 'Chlorophyll Concentration', 'Depth In Meters', 'Elevation In Meters', 'Geographic Location', 'Habitat', 'Isolation', 'Isolation Country', 'Latitude', 'Longhurst Code', 'Longhurst Description', 'Longitude', 'Nitrate Concentration', 'Oxygen Concentration', 'pH', 'Pressure', 'Salinity', 'Salinity Concentration', 'Sample Collection Date', 'Sample Collection Temperature', 'Subsurface In Meters', 'Genome Size   * assembled', 'Gene Count   * assembled', 'Scaffold Count   * assembled', 'Genome Bin Count   * assembled', 'CRISPR Count   * assembled', 'GC   * assembled', 'KO %   * assembled', 'Estimated Number of Genomes  * assembled', 'Estimated Average Genome Size  * assembled', 'Estimated number of genomes - Marker genes average  * assembled', 'Estimated number of genomes - Marker genes median  * assembled', 'Estimated number of genomes - Marker genes mode  * assembled', 'JGI Data Utilization Status', 'Number of Filtered Reads   * assembled', 'Number of Mapped Reads   * assembled', 'Pipeline'\n",
       "    var: 'ko_name'"
      ]
     },
     "execution_count": 4,
     "metadata": {},
     "output_type": "execute_result"
    }
   ],
   "source": [
    "#Filter samples with less than 100000 genes called\n",
    "adata = adata[adata.obs['Gene Count   * assembled']>100000]\n",
    "adata"
   ]
  },
  {
   "cell_type": "code",
   "execution_count": 5,
   "id": "f6ecf4be-fdc2-4abf-96f2-bc59fdba46ca",
   "metadata": {},
   "outputs": [
    {
     "data": {
      "text/plain": [
       "View of AnnData object with n_obs × n_vars = 7656 × 18290\n",
       "    obs: 'Domain', 'Sequencing Status', 'Study Name', 'Genome Name / Sample Name', 'Sequencing Center', 'IMG Genome ID ', 'IMG Release/Pipeline Version', 'IMG Submission ID', 'Add Date', 'Assembly Method', 'Has Coverage', 'Release Date', 'Sequencing Depth', 'Sequencing Method', 'Sequencing Quality', 'Ecosystem', 'Ecosystem Category', 'Ecosystem Subtype', 'Ecosystem Type', 'Specific Ecosystem', 'Altitude In Meters', 'Chlorophyll Concentration', 'Depth In Meters', 'Elevation In Meters', 'Geographic Location', 'Habitat', 'Isolation', 'Isolation Country', 'Latitude', 'Longhurst Code', 'Longhurst Description', 'Longitude', 'Nitrate Concentration', 'Oxygen Concentration', 'pH', 'Pressure', 'Salinity', 'Salinity Concentration', 'Sample Collection Date', 'Sample Collection Temperature', 'Subsurface In Meters', 'Genome Size   * assembled', 'Gene Count   * assembled', 'Scaffold Count   * assembled', 'Genome Bin Count   * assembled', 'CRISPR Count   * assembled', 'GC   * assembled', 'KO %   * assembled', 'Estimated Number of Genomes  * assembled', 'Estimated Average Genome Size  * assembled', 'Estimated number of genomes - Marker genes average  * assembled', 'Estimated number of genomes - Marker genes median  * assembled', 'Estimated number of genomes - Marker genes mode  * assembled', 'JGI Data Utilization Status', 'Number of Filtered Reads   * assembled', 'Number of Mapped Reads   * assembled', 'Pipeline'\n",
       "    var: 'ko_name'"
      ]
     },
     "execution_count": 5,
     "metadata": {},
     "output_type": "execute_result"
    }
   ],
   "source": [
    "#Filter out samples with unknown annotation pipeline\n",
    "adata = adata[adata.obs['Pipeline'] != \"Unknown\"]\n",
    "adata"
   ]
  },
  {
   "cell_type": "code",
   "execution_count": 6,
   "id": "77dbdfdf-9ef7-40e0-b791-a81c3327dd7f",
   "metadata": {},
   "outputs": [
    {
     "data": {
      "text/plain": [
       "View of AnnData object with n_obs × n_vars = 7614 × 18290\n",
       "    obs: 'Domain', 'Sequencing Status', 'Study Name', 'Genome Name / Sample Name', 'Sequencing Center', 'IMG Genome ID ', 'IMG Release/Pipeline Version', 'IMG Submission ID', 'Add Date', 'Assembly Method', 'Has Coverage', 'Release Date', 'Sequencing Depth', 'Sequencing Method', 'Sequencing Quality', 'Ecosystem', 'Ecosystem Category', 'Ecosystem Subtype', 'Ecosystem Type', 'Specific Ecosystem', 'Altitude In Meters', 'Chlorophyll Concentration', 'Depth In Meters', 'Elevation In Meters', 'Geographic Location', 'Habitat', 'Isolation', 'Isolation Country', 'Latitude', 'Longhurst Code', 'Longhurst Description', 'Longitude', 'Nitrate Concentration', 'Oxygen Concentration', 'pH', 'Pressure', 'Salinity', 'Salinity Concentration', 'Sample Collection Date', 'Sample Collection Temperature', 'Subsurface In Meters', 'Genome Size   * assembled', 'Gene Count   * assembled', 'Scaffold Count   * assembled', 'Genome Bin Count   * assembled', 'CRISPR Count   * assembled', 'GC   * assembled', 'KO %   * assembled', 'Estimated Number of Genomes  * assembled', 'Estimated Average Genome Size  * assembled', 'Estimated number of genomes - Marker genes average  * assembled', 'Estimated number of genomes - Marker genes median  * assembled', 'Estimated number of genomes - Marker genes mode  * assembled', 'JGI Data Utilization Status', 'Number of Filtered Reads   * assembled', 'Number of Mapped Reads   * assembled', 'Pipeline'\n",
       "    var: 'ko_name'"
      ]
     },
     "execution_count": 6,
     "metadata": {},
     "output_type": "execute_result"
    }
   ],
   "source": [
    "#Filter out combined assembly samples\n",
    "adata = adata[-adata.obs['Genome Name / Sample Name'].str.contains('combined|co-assembly', case=False)]\n",
    "adata"
   ]
  },
  {
   "cell_type": "code",
   "execution_count": 7,
   "id": "3d907224-c591-4384-8c83-d940b088f9b4",
   "metadata": {},
   "outputs": [
    {
     "data": {
      "text/plain": [
       "View of AnnData object with n_obs × n_vars = 6539 × 18290\n",
       "    obs: 'Domain', 'Sequencing Status', 'Study Name', 'Genome Name / Sample Name', 'Sequencing Center', 'IMG Genome ID ', 'IMG Release/Pipeline Version', 'IMG Submission ID', 'Add Date', 'Assembly Method', 'Has Coverage', 'Release Date', 'Sequencing Depth', 'Sequencing Method', 'Sequencing Quality', 'Ecosystem', 'Ecosystem Category', 'Ecosystem Subtype', 'Ecosystem Type', 'Specific Ecosystem', 'Altitude In Meters', 'Chlorophyll Concentration', 'Depth In Meters', 'Elevation In Meters', 'Geographic Location', 'Habitat', 'Isolation', 'Isolation Country', 'Latitude', 'Longhurst Code', 'Longhurst Description', 'Longitude', 'Nitrate Concentration', 'Oxygen Concentration', 'pH', 'Pressure', 'Salinity', 'Salinity Concentration', 'Sample Collection Date', 'Sample Collection Temperature', 'Subsurface In Meters', 'Genome Size   * assembled', 'Gene Count   * assembled', 'Scaffold Count   * assembled', 'Genome Bin Count   * assembled', 'CRISPR Count   * assembled', 'GC   * assembled', 'KO %   * assembled', 'Estimated Number of Genomes  * assembled', 'Estimated Average Genome Size  * assembled', 'Estimated number of genomes - Marker genes average  * assembled', 'Estimated number of genomes - Marker genes median  * assembled', 'Estimated number of genomes - Marker genes mode  * assembled', 'JGI Data Utilization Status', 'Number of Filtered Reads   * assembled', 'Number of Mapped Reads   * assembled', 'Pipeline'\n",
       "    var: 'ko_name'"
      ]
     },
     "execution_count": 7,
     "metadata": {},
     "output_type": "execute_result"
    }
   ],
   "source": [
    "#Filter out samples with less than 30% genes annotated with KO numbers\n",
    "adata = adata[adata.obs['KO %   * assembled']>30]\n",
    "adata"
   ]
  },
  {
   "cell_type": "code",
   "execution_count": 8,
   "id": "24d09191-a8bb-4906-abe8-5d0c24230559",
   "metadata": {},
   "outputs": [
    {
     "name": "stdout",
     "output_type": "stream",
     "text": [
      "(6539, 18290)\n"
     ]
    },
    {
     "name": "stderr",
     "output_type": "stream",
     "text": [
      "Trying to set attribute `.var` of view, copying.\n"
     ]
    },
    {
     "name": "stdout",
     "output_type": "stream",
     "text": [
      "(6539, 9871)\n"
     ]
    }
   ],
   "source": [
    "print(np.shape(adata.X))\n",
    "sc.pp.filter_genes(adata, min_cells=654)#genes must show up in at least 655 (10%) of metagenomes\n",
    "print(np.shape(adata.X))"
   ]
  },
  {
   "cell_type": "code",
   "execution_count": 9,
   "id": "e8fdde05-1278-48cf-81fb-119bb24976a5",
   "metadata": {},
   "outputs": [
    {
     "name": "stderr",
     "output_type": "stream",
     "text": [
      "... storing 'Pipeline' as categorical\n"
     ]
    }
   ],
   "source": [
    "#Export raw filtered adata\n",
    "adata.write_h5ad('data/adata_raw_filtered.h5ad')"
   ]
  },
  {
   "cell_type": "code",
   "execution_count": 115,
   "id": "a1a88b2d-63c3-4e7c-85ad-fa9f7bc86411",
   "metadata": {},
   "outputs": [
    {
     "name": "stdout",
     "output_type": "stream",
     "text": [
      "0\n",
      "1\n",
      "2\n",
      "3\n",
      "4\n",
      "5\n",
      "6\n",
      "7\n",
      "8\n",
      "9\n",
      "10\n",
      "11\n",
      "12\n",
      "13\n",
      "14\n",
      "15\n"
     ]
    }
   ],
   "source": [
    "from scipy.stats import dirichlet\n",
    "#ALDEx2 like Monte-Carlo sampling and normalization of data\n",
    "MC_instance = 16\n",
    "for i in range(MC_instance):\n",
    "    new_mat = np.zeros_like(adata.X)\n",
    "    print(i)\n",
    "    for row in range(np.shape(adata.X)[0]):\n",
    "        new_mat[row,:] = dirichlet.rvs(adata.X[row,:]+0.5)\n",
    "        \n",
    "    geometric_mean = stats.gmean(new_mat, axis=1)\n",
    "    if i == 0:\n",
    "        new_clr = np.log2(new_mat.T/geometric_mean).T\n",
    "    else:\n",
    "        new_clr = (new_clr + np.log2(new_mat.T/geometric_mean).T)/2."
   ]
  },
  {
   "cell_type": "code",
   "execution_count": 118,
   "id": "0279ab64-16eb-48bb-a549-abd68adee90a",
   "metadata": {},
   "outputs": [],
   "source": [
    "adata.X = new_clr"
   ]
  },
  {
   "cell_type": "code",
   "execution_count": 130,
   "id": "1af5850f-eca7-43d0-8ddf-121c2e5c9278",
   "metadata": {},
   "outputs": [],
   "source": [
    "adata.write_h5ad('data/adata_dirichlet_16_normalized.h5ad')"
   ]
  },
  {
   "cell_type": "code",
   "execution_count": null,
   "id": "241f451a-4d58-41e4-97c0-c69132e136c8",
   "metadata": {},
   "outputs": [],
   "source": []
  }
 ],
 "metadata": {
  "kernelspec": {
   "display_name": "Python 3",
   "language": "python",
   "name": "python3"
  },
  "language_info": {
   "codemirror_mode": {
    "name": "ipython",
    "version": 3
   },
   "file_extension": ".py",
   "mimetype": "text/x-python",
   "name": "python",
   "nbconvert_exporter": "python",
   "pygments_lexer": "ipython3",
   "version": "3.6.10"
  }
 },
 "nbformat": 4,
 "nbformat_minor": 5
}
